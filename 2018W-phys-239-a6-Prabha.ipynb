{
 "cells": [
  {
   "cell_type": "markdown",
   "metadata": {},
   "source": [
    "### Numpy's Arrays versus Lists\n",
    "\n",
    "I can create a vector of the first $N$ integers in two ways:"
   ]
  },
  {
   "cell_type": "code",
   "execution_count": 1,
   "metadata": {},
   "outputs": [
    {
     "name": "stdout",
     "output_type": "stream",
     "text": [
      "v1 =  [0, 1, 2, 3, 4, 5, 6, 7, 8, 9, 10, 11, 12, 13, 14, 15, 16, 17, 18, 19, 20, 21, 22, 23, 24, 25, 26, 27, 28, 29, 30, 31, 32, 33, 34, 35, 36, 37, 38, 39, 40, 41, 42, 43, 44, 45, 46, 47, 48, 49, 50, 51, 52, 53, 54, 55, 56, 57, 58, 59, 60, 61, 62, 63, 64, 65, 66, 67, 68, 69, 70, 71, 72, 73, 74, 75, 76, 77, 78, 79, 80, 81, 82, 83, 84, 85, 86, 87, 88, 89, 90, 91, 92, 93, 94, 95, 96, 97, 98, 99]\n",
      "v2 =  [ 0  1  2  3  4  5  6  7  8  9 10 11 12 13 14 15 16 17 18 19 20 21 22 23 24\n",
      " 25 26 27 28 29 30 31 32 33 34 35 36 37 38 39 40 41 42 43 44 45 46 47 48 49\n",
      " 50 51 52 53 54 55 56 57 58 59 60 61 62 63 64 65 66 67 68 69 70 71 72 73 74\n",
      " 75 76 77 78 79 80 81 82 83 84 85 86 87 88 89 90 91 92 93 94 95 96 97 98 99]\n"
     ]
    }
   ],
   "source": [
    "%matplotlib inline\n",
    "from math import pi\n",
    "import numpy as np\n",
    "import matplotlib.pyplot as plt\n",
    "from IPython.display import display, Math, Latex\n",
    "\n",
    "########## constants\n",
    "N = 100\n",
    "\n",
    "# as a list\n",
    "v1 = []\n",
    "for i in range(N) :\n",
    "    v1.append( i )\n",
    "print( 'v1 = ', v1 )\n",
    "\n",
    "# or as an array\n",
    "v2 = np.arange( N )\n",
    "print( 'v2 = ', v2 )\n"
   ]
  },
  {
   "cell_type": "code",
   "execution_count": null,
   "metadata": {},
   "outputs": [],
   "source": []
  },
  {
   "cell_type": "markdown",
   "metadata": {},
   "source": [
    "However, the efficiency of the two equivalent constructions is very different. \n",
    "\n",
    "a) Create a vector, $\\vec{a}$, as a list containing the first 50 even integers, and a second vector, $\\vec{b}$, as a list containing the first 50 odd integers. The create a function, `listDot( a, b )`, that returns the dot product of the two vectors."
   ]
  },
  {
   "cell_type": "code",
   "execution_count": 6,
   "metadata": {},
   "outputs": [
    {
     "name": "stdout",
     "output_type": "stream",
     "text": [
      "[0, 2, 4, 6, 8, 10, 12, 14, 16, 18, 20, 22, 24, 26, 28, 30, 32, 34, 36, 38, 40, 42, 44, 46, 48, 50, 52, 54, 56, 58, 60, 62, 64, 66, 68, 70, 72, 74, 76, 78, 80, 82, 84, 86, 88, 90, 92, 94, 96, 98]\n",
      "[1, 3, 5, 7, 9, 11, 13, 15, 17, 19, 21, 23, 25, 27, 29, 31, 33, 35, 37, 39, 41, 43, 45, 47, 49, 51, 53, 55, 57, 59, 61, 63, 65, 67, 69, 71, 73, 75, 77, 79, 81, 83, 85, 87, 89, 91, 93, 95, 97, 99]\n",
      "164150\n"
     ]
    }
   ],
   "source": [
    "a = []\n",
    "b = []\n",
    "\n",
    "for i in range (100):\n",
    "    if i%2 == 0:\n",
    "        a.append(i)\n",
    "    else:\n",
    "        b.append(i)\n",
    "print (a)\n",
    "print (b)\n",
    "\n",
    "def listDot( a, b ) :\n",
    "    F = []\n",
    "    for i in range (50):\n",
    "        f = a[i]*b[i]\n",
    "        F.append(f)\n",
    "    return sum(F)\n",
    "\n",
    "print (listDot(a,b))"
   ]
  },
  {
   "cell_type": "markdown",
   "metadata": {},
   "source": [
    "b) Create a vector, $\\vec{c}$, as a `numpy.array` containing the first 50 even integers, and a second vector, $\\vec{d}$, as a  `numpy.array` containing the first 50 odd integers. The create a function, `arrayDot( a, b )`, that returns the dot product of the two vectors."
   ]
  },
  {
   "cell_type": "code",
   "execution_count": 10,
   "metadata": {},
   "outputs": [
    {
     "name": "stdout",
     "output_type": "stream",
     "text": [
      "[ 0  2  4  6  8 10 12 14 16 18 20 22 24 26 28 30 32 34 36 38 40 42 44 46 48\n",
      " 50 52 54 56 58 60 62 64 66 68 70 72 74 76 78 80 82 84 86 88 90 92 94 96 98]\n",
      "[ 1  3  5  7  9 11 13 15 17 19 21 23 25 27 29 31 33 35 37 39 41 43 45 47 49\n",
      " 51 53 55 57 59 61 63 65 67 69 71 73 75 77 79 81 83 85 87 89 91 93 95 97 99]\n",
      "164150\n"
     ]
    }
   ],
   "source": [
    "import numpy as np\n",
    "\n",
    "c = np.arange (0,100,2)\n",
    "d = np.arange (1,100,2)\n",
    "\n",
    "print(c)\n",
    "print(d)\n",
    "\n",
    "def arrayDot( a, b ) :\n",
    "    return sum(a*b)\n",
    "\n",
    "print (arrayDot(c,d))"
   ]
  },
  {
   "cell_type": "markdown",
   "metadata": {},
   "source": [
    "c) Create two functions, `f1( n )` & `f2( n )`, that that create two vectors containing the first $n$ even and odd numbers, respectively, and then returns their dot product."
   ]
  },
  {
   "cell_type": "code",
   "execution_count": 28,
   "metadata": {},
   "outputs": [
    {
     "name": "stdout",
     "output_type": "stream",
     "text": [
      "164150\n",
      "164150\n"
     ]
    }
   ],
   "source": [
    "def f1 (n):\n",
    "    a = []\n",
    "    b = []\n",
    "    for i in range (n):\n",
    "        if i%2 == 0:\n",
    "            a.append(i)\n",
    "        else:\n",
    "            b.append(i)\n",
    "    F = []\n",
    "    for i in range (len(a)):\n",
    "        f = a[i]*b[i]\n",
    "        F.append(f)\n",
    "    return sum(F)\n",
    "\n",
    "def f2 (n):\n",
    "    c = np.arange (0,n,2)\n",
    "    d = np.arange (1,n,2)\n",
    "    return sum(c*d)\n",
    "\n",
    "print (f1(100))\n",
    "print (f2(100))"
   ]
  },
  {
   "cell_type": "markdown",
   "metadata": {},
   "source": [
    "d) Now time how long the functions take to execute for $n \\in \\{ 10^1, 10^2, 10^3 \\}$."
   ]
  },
  {
   "cell_type": "code",
   "execution_count": 44,
   "metadata": {},
   "outputs": [
    {
     "name": "stdout",
     "output_type": "stream",
     "text": [
      "N = 3e+02   t =  109 us\n",
      "N = 3e+02   t =   78 us\n"
     ]
    }
   ],
   "source": [
    "from timeit import timeit\n",
    "\n",
    "# the timeit function only works with functions that accept no arguments.\n",
    "# so I create a wrapper function first\n",
    "\n",
    "n = 300\n",
    "\n",
    "def arrayn1() :\n",
    "    return f1(n)\n",
    "\n",
    "def arrayn2():\n",
    "    return f2(n)\n",
    "\n",
    "print( 'N = %1.0e  ' % n, 't = %4.0f us' % ( timeit( arrayn1, number = 1 ) * 10**6 ) )\n",
    "print( 'N = %1.0e  ' % n, 't = %4.0f us' % ( timeit( arrayn2, number = 1 ) * 10**6 ) )\n"
   ]
  },
  {
   "cell_type": "code",
   "execution_count": null,
   "metadata": {},
   "outputs": [],
   "source": []
  },
  {
   "cell_type": "code",
   "execution_count": null,
   "metadata": {},
   "outputs": [],
   "source": []
  }
 ],
 "metadata": {
  "kernelspec": {
   "display_name": "Python 3",
   "language": "python",
   "name": "python3"
  },
  "language_info": {
   "codemirror_mode": {
    "name": "ipython",
    "version": 3
   },
   "file_extension": ".py",
   "mimetype": "text/x-python",
   "name": "python",
   "nbconvert_exporter": "python",
   "pygments_lexer": "ipython3",
   "version": "3.5.2"
  }
 },
 "nbformat": 4,
 "nbformat_minor": 2
}
