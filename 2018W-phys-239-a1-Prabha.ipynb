{
 "cells": [
  {
   "cell_type": "markdown",
   "metadata": {},
   "source": [
    "### Exercise 5.10: Period of an anharmonic oscillator\n",
    "(from *Computational Physics* by Mark Newman, [ISBN-10: 1480145513](https://www.amazon.ca/dp/1480145513/))\n",
    "\n",
    "The simple harmonic oscillator crops up in many places. Its behavior can be studied readily using analytic methods and it has the important property that its period of os- cillation is a constant, independent of its amplitude, making it useful, for instance, for keeping time in watches and clocks.\n",
    "\n",
    "Frequently in physics, however, we also come across anharmonic oscillators, whose period varies with amplitude and whose behavior cannot usually be calculated analyt- ically. A general classical oscillator can be thought of as a particle in a concave potential well. When disturbed, the particle will rock back and forth in the well:\n",
    "\n",
    "The harmonic oscillator corresponds to a quadratic potential $V(x) \\propto x^2$. Any other form gives an anharmonic oscillator. (Thus there are many different kinds of anharmonic oscillator, depending on the exact form of the potential.)\n",
    "\n",
    "One way to calculate the motion of an oscillator is to write down the equation for the conservation of energy in the system. If the particle has mass m and position $x$, then the total energy is equal to the sum of the kinetic and potential energies thus:\n",
    "$$\n",
    "    E = \\tfrac{1}{2} m \\dot{x}^2 + V(x).\n",
    "$$\n",
    "Since the energy must be constant over time, this equation is effectively a (nonlinear) differential equation linking $x$ and $t$.\n",
    "\n",
    "Let us assume that the potential $V(x)$ is symmetric about $x = 0$ and let us set our anharmonic oscillator going with amplitude $a$. That is, at $t = 0$ we release it from rest at position $x = a$ and it swings back towards the origin. Then at $t = 0$ we have $\\dot{x} = 0$ and the equation above reads $E = V(a$), which gives us the total energy of the particle in terms of the amplitude.\n",
    "\n"
   ]
  },
  {
   "cell_type": "markdown",
   "metadata": {},
   "source": [
    "a) When the particle reaches the origin for the first time, it has gone through one\n",
    "quarter of a period of the oscillator. By rearranging the equation above for $\\dot{x}$\n",
    "and then integrating with respect to $t$ from 0 to $\\tfrac{1}{4}T$, show that the period $T$ is 4\n",
    "given by\n",
    "$$\n",
    "    T = \\sqrt{8m} \\int_0^a \\frac{dx}{\\sqrt{V(a)-V(x)}}.\n",
    "$$"
   ]
  },
  {
   "cell_type": "markdown",
   "metadata": {},
   "source": [
    "$$\n",
    "    E = \\tfrac{1}{2} m \\dot{x}^2 + V(x),\\quad E = V(a)\\\\\n",
    "    \\sqrt{\\tfrac{2}{m} V(a) - V(x)} = \\frac{dx}{dt}\\\\\n",
    "    \\int_0^{\\tfrac{1}{4}T} dt = \\sqrt{\\tfrac{m}{2}} \\int_0^a \\frac{dx}{\\sqrt{V(a) - V(x)}}\\\\\n",
    "    \\frac{1}{4} T = \\sqrt{\\tfrac{m}{2}} \\int_0^a \\frac{dx}{\\sqrt{V(a) - V(x)}}\\\\\n",
    "    T = \\sqrt{8m} \\int_0^a \\frac{dx}{\\sqrt{V(a)-V(x)}}\n",
    "$$"
   ]
  },
  {
   "cell_type": "markdown",
   "metadata": {},
   "source": [
    "b) Suppose the potential is $V(x) = x^4$ and the mass of the particle is $m = 1$. Write a Python function that calculates the period of the oscillator for given amplitude a using Gaussian quadrature with $N = 20$ points, then use your function to make a graph of the period for amplitudes ranging from $a = 0$ to $a = 2$."
   ]
  },
  {
   "cell_type": "code",
   "execution_count": 2,
   "metadata": {},
   "outputs": [
    {
     "name": "stdout",
     "output_type": "stream",
     "text": [
      "1.84154168806 1.99\n"
     ]
    },
    {
     "data": {
      "text/plain": [
       "<function matplotlib.pyplot.show>"
      ]
     },
     "execution_count": 2,
     "metadata": {},
     "output_type": "execute_result"
    },
    {
     "data": {
      "image/png": "[encoded data removed]",
      "text/plain": [
       "<matplotlib.figure.Figure at 0x7f4e06ac7940>"
      ]
     },
     "metadata": {},
     "output_type": "display_data"
    }
   ],
   "source": [
    "from gaussxw import gaussxw\n",
    "import numpy as np\n",
    "import matplotlib.pyplot as plt\n",
    "\n",
    "# potetital function\n",
    "def V(x):\n",
    "    v = x*x*x*x\n",
    "    return v\n",
    "# integrand function\n",
    "def f(x,b):\n",
    "    f = 1/np.sqrt(V(b)-V(x))\n",
    "    return f \n",
    "\n",
    "# finding T  \n",
    "Tlist = []\n",
    "\n",
    "for i in np.arange(0.001, 2, 0.02):\n",
    "    N = 20\n",
    "    a = 0\n",
    "    b = i\n",
    "    m = 1\n",
    "    \n",
    "    x,w = gaussxw(N)\n",
    "    xp = 0.5*(b-a)*x + 0.5*(b+a)\n",
    "    wp = 0.5*(b-a)*w\n",
    "    \n",
    "    T = 0\n",
    "    for k in range(N):\n",
    "        T += wp[k]*f(xp[k],b)   \n",
    "    Tlist.append(np.sqrt(8*m)*T) \n",
    "\n",
    "x = np.arange(0.01,2,0.02)\n",
    "print(Tlist[-1],x[-1])\n",
    "plt.plot(x,Tlist)\n",
    "plt.xlabel('Amplitude (a)')\n",
    "plt.ylabel('Period (T)')\n",
    "plt.title('Period vs Amplitude')\n",
    "plt.show"
   ]
  },
  {
   "cell_type": "markdown",
   "metadata": {},
   "source": [
    "c) You should find that the oscillator gets faster as the amplitude increases, even though the particle has further to travel for larger amplitude. And you should find that the period diverges as the amplitude goes to zero. How do you explain these results?"
   ]
  },
  {
   "cell_type": "code",
   "execution_count": null,
   "metadata": {},
   "outputs": [],
   "source": []
  }
 ],
 "metadata": {
  "kernelspec": {
   "display_name": "Python 3",
   "language": "python",
   "name": "python3"
  },
  "language_info": {
   "codemirror_mode": {
    "name": "ipython",
    "version": 3
   },
   "file_extension": ".py",
   "mimetype": "text/x-python",
   "name": "python",
   "nbconvert_exporter": "python",
   "pygments_lexer": "ipython3",
   "version": "3.5.2"
  }
 },
 "nbformat": 4,
 "nbformat_minor": 2
}
