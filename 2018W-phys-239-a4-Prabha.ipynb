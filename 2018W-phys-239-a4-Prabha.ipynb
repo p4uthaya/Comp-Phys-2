{
 "cells": [
  {
   "cell_type": "markdown",
   "metadata": {},
   "source": [
    "<img src=\"http://www.science.uwaterloo.ca/~odonovan/2018W-phys239/resistor.png\" align=right width=200 border=50>\n",
    "\n",
    "## A4: A Circuit of Resistors\n",
    "\n",
    "(Exercise 6.1 and 6.4 from *Computational Physics* by Mark Newman,\n",
    "[ISBN-10: 1480145513](https://www.amazon.ca/dp/1480145513/))\n",
    "\n",
    "Consider the circuit of\n",
    "resistors to the right\\.\n",
    "\n",
    "All the resistors have the same resistance $R$.  The power rail at the top\n",
    "is at voltage $V_+=5\\,$V.  What are the other four voltages, $V_1$\n",
    "to $V_4$?\n",
    "\n",
    "To answer this question we use Ohm's law and the Kirchhoff current\n",
    "law, which says that the total net current flow out of (or into) any\n",
    "junction in a circuit must be zero.  Thus for the junction at\n",
    "voltage $V_1$, for instance, we have\n",
    "$$\n",
    "{V_1-V_2\\over R} + {V_1-V_3\\over R} + {V_1-V_4\\over R} + {V_1-V_+\\over R}\n",
    "= 0,\n",
    "$$\n",
    "or equivalently\n",
    "$$\n",
    "4V_1 - V_2 - V_3 - V_4 = V_+.\n",
    "$$\n",
    "\n",
    "(Recall that Ohm's law is $V=IR$, so the current through a resistor is $I=\\Delta V/R$ where $\\Delta V$ is the potential across the resistor. For example, the resistor between $V_1$ and $V_2$ has a potential difference $\\Delta V= V_1-V_2$ so the current **into** the junction at $V_1$ through this resistor is $I=(V_1-V_2)/R$.)\n",
    "\n"
   ]
  },
  {
   "cell_type": "code",
   "execution_count": 7,
   "metadata": {},
   "outputs": [
    {
     "name": "stdout",
     "output_type": "stream",
     "text": [
      "x =  [ 2. -1. -2.  1.]\n"
     ]
    }
   ],
   "source": [
    "# no need to change anything in this cell\n",
    "\n",
    "%matplotlib inline\n",
    "import numpy as np\n",
    "import matplotlib.pyplot as plt\n",
    "\n",
    "# the following code is from the textbook.\n",
    "\n",
    "from numpy import array,empty\n",
    "\n",
    "# Gaussian elimination\n",
    "def gausselim( A, v ):\n",
    "    \"\"\"\n",
    "    This code is from the textbook *Computational Physics* \n",
    "    by Mark Newman, sec. 6.1, p. 219.\n",
    "    \n",
    "    It solves the equation $Ax=v$ where $A$ is a square matrix, \n",
    "    $v$ is a vector, and $x$ is an unknown vector, using the method \n",
    "    of Gaussian elimination.\n",
    "    \"\"\"\n",
    "    for m in range(N):\n",
    "\n",
    "        # Divide by the diagonal element\n",
    "        div = A[m,m]\n",
    "        A[m,:] /= div\n",
    "        v[m] /= div\n",
    "\n",
    "        # Now subtract from the lower rows\n",
    "        for i in range(m+1,N):\n",
    "            mult = A[i,m]\n",
    "            A[i,:] -= mult*A[m,:]\n",
    "            v[i] -= mult*v[m]\n",
    "\n",
    "    # Backsubstitution\n",
    "    x = empty(N,float)\n",
    "    for m in range(N-1,-1,-1):\n",
    "        x[m] = v[m]\n",
    "        for i in range(m+1,N):\n",
    "            x[m] -= A[m,i]*x[i]\n",
    "    return x\n",
    "\n",
    "A = array([[ 2,  1,  4,  1 ],\n",
    "           [ 3,  4, -1, -1 ],\n",
    "           [ 1, -4,  1,  5 ],\n",
    "           [ 2, -2,  1,  3 ]], float)\n",
    "v = array([ -4, 3, 9, 7 ],float)\n",
    "N = len(v)\n",
    "\n",
    "x = gausselim( A,v )\n",
    "print( 'x = ', x)"
   ]
  },
  {
   "cell_type": "markdown",
   "metadata": {},
   "source": [
    "a) Write similar equations for the other three junctions with unknown\n",
    "voltages."
   ]
  },
  {
   "cell_type": "markdown",
   "metadata": {},
   "source": [
    "$$\n",
    "4V_1 - V_2 - V_3 - V_4 = V_+ \\\\\n",
    "- V_1 + 3V_2 - V_4 = 0 \\\\\n",
    "- V_1 + 3V_3 - V_4 = V_+ \\\\\n",
    "- V_1 - V_2 - V_3 + 4V_4 = 0 \\\\\n",
    "$$"
   ]
  },
  {
   "cell_type": "markdown",
   "metadata": {},
   "source": [
    "b) Write a program to solve the four resulting equations using Gaussian\n",
    "  elimination and hence find the four voltages (or you can modify a program\n",
    "  you already have, such as the program `gausselim.py` in\n",
    "  Example 6.1)."
   ]
  },
  {
   "cell_type": "code",
   "execution_count": 14,
   "metadata": {},
   "outputs": [
    {
     "name": "stdout",
     "output_type": "stream",
     "text": [
      "V = [ 3.          1.66666667  3.33333333  2.        ]\n"
     ]
    }
   ],
   "source": [
    "import numpy as np \n",
    "\n",
    "def gausselim( A, v ):\n",
    "    \"\"\"\n",
    "    This code is from the textbook *Computational Physics* \n",
    "    by Mark Newman, sec. 6.1, p. 219.\n",
    "    \n",
    "    It solves the equation $Ax=v$ where $A$ is a square matrix, \n",
    "    $v$ is a vector, and $x$ is an unknown vector, using the method \n",
    "    of Gaussian elimination.\n",
    "    \"\"\"\n",
    "    N = len(v)\n",
    "    for m in range(N):\n",
    "\n",
    "        # Divide by the diagonal element\n",
    "        div = A[m,m]\n",
    "        A[m,:] /= div\n",
    "        v[m] /= div\n",
    "\n",
    "        # Now subtract from the lower rows\n",
    "        for i in range(m+1,N):\n",
    "            mult = A[i,m]\n",
    "            A[i,:] -= mult*A[m,:]\n",
    "            v[i] -= mult*v[m]\n",
    "\n",
    "    # Backsubstitution\n",
    "    x = np.empty(N,float)\n",
    "    for m in range(N-1,-1,-1):\n",
    "        x[m] = v[m]\n",
    "        for i in range(m+1,N):\n",
    "            x[m] -= A[m,i]*x[i]\n",
    "    return x\n",
    "\n",
    "A = np.array([[ 4,-1,-1,-1],\n",
    "              [-1, 3, 0,-1],\n",
    "              [-1, 0, 3,-1],\n",
    "              [-1,-1,-1, 4]], float)\n",
    "\n",
    "v = np.array([5,0,5,0],float)\n",
    "x1 = gausselim(A,v)\n",
    "print ('V =',x1)\n",
    "\n"
   ]
  },
  {
   "cell_type": "markdown",
   "metadata": {},
   "source": [
    "c) Write a program to solve the resistor network problem of\n",
    "Exercise 6.1 on page 220 using the function `solve` from\n",
    "`numpy.linalg`.  If you also did Exercise 6.1, you should check that\n",
    "you get the same answer both times.\n"
   ]
  },
  {
   "cell_type": "code",
   "execution_count": 18,
   "metadata": {},
   "outputs": [
    {
     "name": "stdout",
     "output_type": "stream",
     "text": [
      "V = [ 3.          1.66666667  3.33333333  2.        ]\n"
     ]
    }
   ],
   "source": [
    "x2 = np.linalg.solve(A,v)\n",
    "\n",
    "print ('V =',x2)\n",
    "\n",
    "\n"
   ]
  },
  {
   "cell_type": "code",
   "execution_count": null,
   "metadata": {},
   "outputs": [],
   "source": []
  },
  {
   "cell_type": "code",
   "execution_count": null,
   "metadata": {},
   "outputs": [],
   "source": []
  }
 ],
 "metadata": {
  "kernelspec": {
   "display_name": "Python 3",
   "language": "python",
   "name": "python3"
  },
  "language_info": {
   "codemirror_mode": {
    "name": "ipython",
    "version": 3
   },
   "file_extension": ".py",
   "mimetype": "text/x-python",
   "name": "python",
   "nbconvert_exporter": "python",
   "pygments_lexer": "ipython3",
   "version": "3.5.2"
  }
 },
 "nbformat": 4,
 "nbformat_minor": 2
}
