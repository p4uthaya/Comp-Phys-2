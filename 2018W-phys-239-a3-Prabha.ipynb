{
 "cells": [
  {
   "cell_type": "markdown",
   "metadata": {},
   "source": [
    "# Electric field of a charge distribution\n",
    "(from *Computational Physics* by Mark Newman, [ISBN-10: 1480145513](https://www.amazon.ca/dp/1480145513/))\n",
    "\n",
    "Suppose we have a distribution of charges and we want to calculate\n",
    "the resulting electric field.  One way to do this is to first calculate the\n",
    "electric potential~$\\phi$ and then take its gradient.  For a point\n",
    "charge $q$ at the origin, the electric potential at a distance $r$ from the\n",
    "origin is $\\phi=q/4\\pi\\epsilon_0 r$ and the electric field is $\\vec{E} =\n",
    "-\\nabla\\phi$.\n"
   ]
  },
  {
   "cell_type": "markdown",
   "metadata": {},
   "source": [
    "a) You have two charges, of $\\pm1\\,$C, $10\\,$cm apart.  Calculate the\n",
    "  resulting electric potential on a $1\\,\\textrm{m}\\times1\\,\\textrm{m}$\n",
    "  square plane surrounding the charges and passing through them.  Calculate\n",
    "  the potential at $1\\,$cm spaced points in a grid and make a\n",
    "  visualization on the screen of the potential using a density plot.\n"
   ]
  },
  {
   "cell_type": "code",
   "execution_count": 2,
   "metadata": {},
   "outputs": [
    {
     "data": {
      "image/png": "[encoded data removed]",
      "text/plain": [
       "<matplotlib.figure.Figure at 0x7ff40c0b3f28>"
      ]
     },
     "metadata": {},
     "output_type": "display_data"
    }
   ],
   "source": [
    "%matplotlib inline\n",
    "import numpy as np\n",
    "import matplotlib.pyplot as plt\n",
    "from math import factorial\n",
    "\n",
    "\n",
    "\n",
    "q1 = 1\n",
    "q2 = -1\n",
    "e = 8.85e-19\n",
    "N = 100\n",
    "X, Y = np.meshgrid(np.linspace(0,1,N), np.linspace(0,1,N))\n",
    "r1 = np.sqrt((X-0.45)**2 +(Y-0.5)**2)\n",
    "r2 = np.sqrt((X-0.55)**2 +(Y-0.5)**2)\n",
    "p = (q1/(4*np.pi*e*r1))+(q2/(4*np.pi*e*r2))\n",
    "\n",
    "fig = plt.figure()\n",
    "ax1 = fig.add_subplot(1,2,1)\n",
    "pot = ax1.imshow(p, extent=[0,1,0,1], interpolation='bilinear')\n",
    "plt.gray()\n",
    "plt.show()\n",
    "\n",
    "\n",
    "#ax2 = fig.add_subplot(1,2,2,projection='3d')\n",
    "#surf = ax2.plot_surface(X,Y,p,rstreide=1,cstride=1,cmap=cm.coolwarm,linewidth=0,antialiased=False)\n",
    "#ax2.set_zlim(0,1)\n"
   ]
  },
  {
   "cell_type": "markdown",
   "metadata": {},
   "source": [
    "b) Now calculate the partial derivatives of the potential with respect\n",
    "  to $x$ and $y$ and hence find the electric field in the $xy$ plane.  Make\n",
    "  a visualization of the field also.  This is a little trickier than\n",
    "  visualizing the potential, because the electric field has both magnitude\n",
    "  and direction.  One way to do it might be to make two density plots, one\n",
    "  for the magnitude, and one for the direction, the latter using the\n",
    "  `hsv` color scheme in `pylab`, which is a rainbow scheme\n",
    "  that passes through all the colors but starts and ends with the same\n",
    "  shade of red, which makes it suitable for representing things like\n",
    "  directions or angles that go around the full circle and end up where they\n",
    "  started.  A more sophisticated visualization might use the arrow\n",
    "  object from the `visual` package, drawing a grid of arrows with\n",
    "  direction and length chosen to represent the field.\n"
   ]
  },
  {
   "cell_type": "code",
   "execution_count": null,
   "metadata": {},
   "outputs": [],
   "source": []
  },
  {
   "cell_type": "markdown",
   "metadata": {},
   "source": [
    "c) Now suppose you have a continuous distribution of charge over an\n",
    "  $L\\times L$ square.  The charge density in Cm$^{-2}$ is\n",
    "$$\n",
    "\\sigma(x,y) = q_0 \\sin {2\\pi x\\over L} \\sin{2\\pi y\\over L}.\n",
    "$$\n",
    "Calculate and visualize the resulting electric field at $1\\,$cm-spaced\n",
    "points in one square meter of the $xy$ plane for the case where $L=10\\,$cm,\n",
    "the charge distribution is centered in the middle of the visualized area,\n",
    "and $q_0=100\\,\\textrm{cm}^{-2}$.  You will have to perform a double\n",
    "integral over $x$ and $y$, then differentiate the potential with respect to\n",
    "position to get the electric field.  Choose whatever integration method\n",
    "seems appropriate for the integrals.\n"
   ]
  },
  {
   "cell_type": "code",
   "execution_count": null,
   "metadata": {},
   "outputs": [],
   "source": []
  }
 ],
 "metadata": {
  "kernelspec": {
   "display_name": "Python 3",
   "language": "python",
   "name": "python3"
  },
  "language_info": {
   "codemirror_mode": {
    "name": "ipython",
    "version": 3
   },
   "file_extension": ".py",
   "mimetype": "text/x-python",
   "name": "python",
   "nbconvert_exporter": "python",
   "pygments_lexer": "ipython3",
   "version": "3.5.2"
  }
 },
 "nbformat": 4,
 "nbformat_minor": 2
}
